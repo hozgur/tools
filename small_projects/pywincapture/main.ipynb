{
 "cells": [
  {
   "cell_type": "code",
   "execution_count": 1,
   "metadata": {},
   "outputs": [
    {
     "name": "stdout",
     "output_type": "stream",
     "text": [
      "[10814686, 329962, 198380, 67154, 132360, 66134, 66086, 65986, 65982, 65978, 65974, 65956, 65948, 65932, 65920, 65916, 1182830, 3345078, 3017440, 789132, 3607566, 1117232, 1182736, 8063970, 2427586, 3606850, 4720272, 8850704, 592656, 1377286, 6292196, 66058, 4918112, 1052064, 986526, 3345744, 1903650, 5901014, 8653194, 1248142, 3148514, 723310, 658162, 264964, 133778, 199248, 199346, 789046, 5376634, 1707072, 4654318, 66006, 65990, 65994, 65908, 66008, 657742, 723960, 4524050, 68484, 461690, 5704524, 723774, 265034, 7080782, 10357592, 330136, 525542, 526684, 10815812, 1247636, 67206, 67174, 197596, 66974, 66970, 132502, 263034, 66968, 66958, 66946, 66942, 66916, 132162, 132152, 66474, 131448, 66040, 66030, 65842, 2884422, 132816, 133192, 1050692, 67714, 67686, 133118, 329708, 3606488, 264098, 2688950, 131992, 132136, 67466, 198430, 458808, 264058, 132972, 67426, 67422, 67404, 67340, 67378, 67374, 67368, 67344, 132860, 67330, 67204, 67224, 67220, 67210, 67208, 67202, 67200, 132684, 67138, 67134, 329260, 132650, 67120, 197324, 67270, 67248, 67246, 132122, 132648, 263744, 2163406, 67092, 67090, 67084, 394724, 329184, 394714, 132074, 3868080, 67066, 67006, 394002, 132564, 329146, 132596, 393904, 2491826, 66996, 132434, 132418, 329014, 66978, 66976, 66972, 459974, 132500, 328574, 66962, 66956, 66960, 66938, 263542, 66930, 66928, 66912, 66902, 132398, 132368, 132402, 394352, 66718, 263266, 984122, 66648, 66608, 66604, 196706, 327818, 66488, 131998, 132004, 132006, 66472, 66452, 66440, 66424, 66396, 66398, 66402, 131800, 131896, 131764, 196662, 131886, 66334, 66308, 66232, 66216, 131748, 66190, 66180, 197236, 66168, 66166, 66160, 197224, 66124, 66242, 66244, 66126, 66118, 66092, 66090, 66084, 196878, 66068, 66054, 66050, 66048, 66036, 66012, 65996, 65992, 66702, 66700, 66690, 525390, 132160, 66630, 66628, 131902, 132118, 131310, 131308, 131884, 66550, 131188, 131172, 131166, 131152, 196954, 131158, 196696, 65958, 65940, 131474, 65936, 327908, 65898, 65874, 65870, 65852, 65848, 196888, 65840, 65838, 131260, 65830, 65832, 65824, 65822, 65818, 655552, 65808, 65796, 65794, 65798, 65750, 196818, 131276, 65732, 65696, 65692, 65688, 65620, 65626, 66076, 66484, 131796, 67250, 67230, 196668, 526200, 66024, 197674, 67142, 263922, 67156, 66858, 66136, 526582, 1575978, 789280, 1313660, 4654372, 132344, 66056, 134014, 3738470, 920510, 986038, 1313084, 1903064, 66018, 65910, 2492506, 722034, 68486, 10423140, 1311456, 67074, 66944, 66918, 132148, 66234, 66034, 65836, 65844, 394668, 133190, 67716, 67688, 67586, 133102, 133084, 264108, 4392872, 198566, 4458254, 525810, 67468, 67462, 67458, 67438, 67424, 67406, 132930, 67370, 67352, 67336, 67348, 67332, 67122, 1246638, 131798, 67068, 132702, 67168, 67140, 67096, 67094, 263678, 67008, 329186, 394314, 66998, 197780, 132432, 132422, 263484, 66914, 132400, 132356, 197644, 66720, 66650, 66606, 131996, 66478, 66454, 66442, 131928, 66400, 131802, 131894, 131724, 131890, 66336, 66218, 66192, 66182, 66174, 66170, 66158, 66070, 66014, 65998, 66704, 66588, 66584, 66580, 131312, 394236, 66552, 131182, 131174, 131202, 65942, 65900, 65856, 65850, 65846, 65834, 65828, 65826, 65820, 196814, 65812, 65804, 65802, 65800, 65752, 65748, 65734, 65698, 65690, 65694, 131794, 67244, 67232, 66046, 65872]\n"
     ]
    }
   ],
   "source": [
    "\n",
    "\n",
    "\n",
    "\n"
   ]
  },
  {
   "cell_type": "code",
   "execution_count": 1,
   "metadata": {},
   "outputs": [
    {
     "name": "stdout",
     "output_type": "stream",
     "text": [
      "88018986 16584\n"
     ]
    }
   ],
   "source": [
    "import win32gui\n",
    "import win32process\n",
    "import win32api\n",
    "import win32con\n",
    "\n",
    "# callback function to handle each window found by EnumWindows\n",
    "def enum_windows_callback(hwnd, window_handles):\n",
    "    window_handles.append(hwnd)\n",
    "    return True\n",
    "\n",
    "# get a list of all opened windows' HWND handles\n",
    "window_handles = []\n",
    "win32gui.EnumWindows(enum_windows_callback, window_handles)\n",
    "\n",
    "\n",
    "def get_window_title(hwnd):\n",
    "    # get the length of the window's title text\n",
    "    length = win32gui.GetWindowTextLength(hwnd)\n",
    "\n",
    "    # get the title text of the window\n",
    "    title = win32gui.GetWindowText(hwnd)\n",
    "\n",
    "    return title\n",
    "\n",
    "def get_window_pid(hwnd):\n",
    "    # get the process ID of the window\n",
    "    return win32process.GetWindowThreadProcessId(hwnd)[1]\n",
    "    \n",
    "\n",
    "#get window_handles list and print the title and process name of each window\n",
    "# for hwnd in window_handles:\n",
    "#     title = get_window_title(hwnd)\n",
    "#     if title:\n",
    "#         print(title, get_window_pid(hwnd))\n",
    "    \n",
    "\n",
    "def get_hwnd_and_pid_from_title(title):\n",
    "    \n",
    "    hwnd = 0\n",
    "    pid = 0\n",
    "    for h in window_handles:\n",
    "        tit = get_window_title(h)\n",
    "        if tit:\n",
    "            if(tit.find(title) >= 0):\n",
    "                hwnd = h\n",
    "                break\n",
    "\n",
    "    if hwnd:\n",
    "        pid = get_window_pid(hwnd)\n",
    "\n",
    "    return hwnd, pid\n",
    "\n",
    "hwnd , pid = get_hwnd_and_pid_from_title(\"i3200/4720\")\n",
    "\n",
    "print(hwnd, pid)"
   ]
  },
  {
   "cell_type": "code",
   "execution_count": 5,
   "metadata": {},
   "outputs": [
    {
     "name": "stdout",
     "output_type": "stream",
     "text": [
      "[]\n"
     ]
    }
   ],
   "source": [
    "# define a callback function to handle each child window found by EnumChildWindows\n",
    "def enum_child_windows_callback(hwnd, window_list):\n",
    "    window_list.append(hwnd)\n",
    "    return True\n",
    "\n",
    "# define a function to get the child windows of a given HWND\n",
    "def get_child_windows(hwnd):\n",
    "    child_windows = []\n",
    "    win32gui.EnumChildWindows(hwnd, enum_child_windows_callback, child_windows)\n",
    "    return child_windows\n",
    "\n",
    "# get the child windows of the parent window\n",
    "child_windows = get_child_windows(hwnd)\n",
    "\n",
    "# print the HWNDs of the child windows\n",
    "print(child_windows)\n",
    "\n",
    "def print_child_windows(hwnd):    \n",
    "    for hwnd in child_windows:\n",
    "        window_text = win32gui.GetWindowText(hwnd)\n",
    "        # get the class name of the window\n",
    "        class_name = win32gui.GetClassName(hwnd)\n",
    "\n",
    "        # get the position and size of the window\n",
    "        left, top, right, bottom = win32gui.GetWindowRect(hwnd)\n",
    "        width = right - left\n",
    "        height = bottom - top\n",
    "\n",
    "        # get the style and extended style of the window\n",
    "        style = win32gui.GetWindowLong(hwnd, win32con.GWL_STYLE)\n",
    "        exstyle = win32gui.GetWindowLong(hwnd, win32con.GWL_EXSTYLE)\n",
    "\n",
    "        # print the window properties\n",
    "        print(\"Window Text: \", window_text)\n",
    "        print(\"Class Name: \", class_name)\n",
    "        print(\"Position: ({}, {})\".format(left, top))\n",
    "        print(\"Size: {} x {}\".format(width, height))\n",
    "        print(\"Style: \", style)\n",
    "        print(\"Extended Style: \", exstyle)"
   ]
  },
  {
   "cell_type": "code",
   "execution_count": 6,
   "metadata": {},
   "outputs": [],
   "source": [
    "\n",
    "def draw_rect(x,y,w,h):\n",
    "    # get the device context for the entire screen\n",
    "    hdc_screen = win32gui.GetDC(None)\n",
    "\n",
    "    # create a pen and brush for drawing the rectangle\n",
    "    pen = win32gui.CreatePen(win32con.PS_SOLID, 1, win32api.RGB(255, 0, 0))\n",
    "    brush = win32gui.CreateSolidBrush(win32api.RGB(255, 255, 0))\n",
    "\n",
    "    # select the pen and brush into the device context\n",
    "    win32gui.SelectObject(hdc_screen, pen)\n",
    "    win32gui.SelectObject(hdc_screen, brush)\n",
    "\n",
    "    # draw the rectangle\n",
    "    win32gui.FrameRect(hdc_screen, (x, y, x+w, y+h), pen)\n",
    "    #win32gui.Rectangle(hdc_screen, left, top, right, bottom)    \n",
    "    # erase the rectangle after a short delay\n",
    "    #win32api.Sleep(1000)\n",
    "    #win32gui.InvalidateRect(0, (x, y, x+w, y+h), True)\n",
    "\n",
    "    # cleanup\n",
    "    win32gui.DeleteObject(pen)\n",
    "    win32gui.DeleteObject(brush)\n",
    "    win32gui.ReleaseDC(None, hdc_screen)\n",
    "\n",
    "def erase_rect(x,y,w,h):\n",
    "    win32gui.InvalidateRect(0, (x, y, x+w, y+h), False)\n"
   ]
  },
  {
   "cell_type": "code",
   "execution_count": 7,
   "metadata": {},
   "outputs": [
    {
     "name": "stdout",
     "output_type": "stream",
     "text": [
      "[4850402, 133796, 198380, 67154, 132360, 65916, 66134, 66086, 65986, 65982, 65978, 65974, 65956, 65948, 65932, 65920, 66006, 65990, 65994, 65908, 66008, 854318, 66160, 66030, 65992, 65958, 66424, 66440, 66474, 66472, 11996100, 17959678, 4720272, 266488, 1837326, 330000, 264272, 4132046, 6556066, 1248304, 2165794, 4918112, 266380, 12453808, 2625590, 12387516, 4720674, 19138876, 8391198, 34408334, 31392990, 4264140, 3146566, 395498, 132960, 132896, 263952, 15534482, 329776, 1180788, 328962, 1246930, 920072, 461720, 4524050, 4853664, 66058, 20319368, 6621728, 15861992, 330236, 7932310, 527130, 4850984, 10029028, 2885946, 19074506, 8063970, 2427586, 3606850, 8850704, 592656, 1377286, 6292196, 723960, 68484, 461690, 5704524, 723774, 265034, 7080782, 10357592, 1247636, 67206, 67174, 197596, 66974, 66970, 132502, 263034, 66968, 66958, 66946, 66942, 66916, 132162, 132152, 131448, 66040, 65842, 133192, 1050692, 67714, 67686, 133118, 329708, 3606488, 264098, 2688950, 131992, 132136, 67466, 198430, 458808, 264058, 132972, 67404, 67340, 67378, 67374, 67368, 132860, 67330, 67204, 67224, 67220, 67210, 67208, 67202, 67200, 132684, 67138, 67134, 329260, 132650, 67120, 197324, 67270, 67248, 67246, 132122, 132648, 263744, 2163406, 67092, 67090, 67084, 394724, 329184, 394714, 132074, 3868080, 67066, 67006, 394002, 132564, 329146, 132596, 393904, 2491826, 66996, 132434, 132418, 329014, 66978, 66976, 66972, 459974, 132500, 328574, 66962, 66956, 66960, 66938, 263542, 66930, 66928, 66912, 66902, 132398, 132368, 132402, 394352, 66718, 263266, 984122, 66648, 66608, 66604, 196706, 327818, 66488, 131998, 132004, 132006, 66452, 66396, 66398, 66402, 131800, 131896, 131764, 196662, 131886, 66334, 66308, 66232, 66216, 131748, 66190, 66180, 197236, 66168, 66166, 197224, 66124, 66242, 66244, 66126, 66118, 66092, 66090, 66084, 196878, 66068, 66054, 66050, 66048, 66036, 66012, 65996, 66702, 66700, 66690, 525390, 132160, 66630, 66628, 131902, 132118, 131884, 66550, 131188, 131172, 131166, 131152, 196954, 131158, 196696, 65940, 131474, 65936, 327908, 65898, 65874, 65870, 65852, 65848, 196888, 65840, 65838, 131260, 65830, 65832, 65824, 65822, 65818, 655552, 65808, 65796, 65794, 65798, 65750, 196818, 131276, 65732, 65696, 65692, 65688, 65620, 65626, 66076, 66484, 131796, 67250, 67230, 196668, 526200, 66024, 197674, 67142, 263922, 67156, 66858, 66136, 66018, 65910, 5312268, 66158, 66442, 789280, 1313660, 657690, 1050698, 134014, 3738470, 3018306, 24774906, 6426408, 26479000, 1771970, 132958, 263910, 396068, 4459514, 69550, 197644, 2492506, 722034, 9244602, 132344, 66056, 526582, 1575978, 4654372, 68486, 10423140, 1311456, 67074, 66944, 66918, 132148, 66234, 66034, 65836, 65844, 394668, 133190, 67716, 67688, 67586, 133102, 133084, 264108, 4392872, 198566, 4458254, 525810, 67468, 67462, 67458, 67438, 67406, 132930, 67370, 67352, 67336, 67332, 67122, 1246638, 131798, 67068, 132702, 67168, 67140, 67096, 67094, 263678, 67008, 329186, 394314, 66998, 197780, 132432, 132422, 263484, 66914, 132400, 132356, 66720, 66650, 66606, 131996, 66478, 66454, 131928, 66400, 131802, 131894, 131724, 131890, 66336, 66218, 66192, 66182, 66174, 66170, 66070, 66014, 65998, 66704, 66588, 66584, 394236, 66552, 131182, 131174, 131202, 65942, 65900, 65856, 65850, 65846, 65834, 65828, 65826, 65820, 196814, 65812, 65804, 65802, 65800, 65752, 65748, 65734, 65698, 65690, 65694, 131794, 67244, 67232, 65872, 66046]\n"
     ]
    }
   ],
   "source": [
    "#Get Mouse Position and check if it is inside the rectangles of the child windows of the parent window. If it is inside the rectangle, then draw a rectangle on the screen.\n",
    "hwnd , pid = get_hwnd_and_pid_from_title(\"i3200/4720\")\n",
    "child_windows = get_child_windows(hwnd)\n",
    "print(child_windows)\n",
    "old_hwnd = 0\n",
    "while True:\n",
    "    x, y = win32api.GetCursorPos()\n",
    "    for hwnd in child_windows:\n",
    "        left, top, right, bottom = win32gui.GetWindowRect(hwnd)\n",
    "        width = right - left\n",
    "        height = bottom - top\n",
    "        if(x > left and x < right and y > top and y < bottom):\n",
    "            if(old_hwnd != hwnd):\n",
    "                draw_rect(left,top,width,height)\n",
    "            \n",
    "\n",
    "            "
   ]
  }
 ],
 "metadata": {
  "kernelspec": {
   "display_name": "Python 3",
   "language": "python",
   "name": "python3"
  },
  "language_info": {
   "codemirror_mode": {
    "name": "ipython",
    "version": 3
   },
   "file_extension": ".py",
   "mimetype": "text/x-python",
   "name": "python",
   "nbconvert_exporter": "python",
   "pygments_lexer": "ipython3",
   "version": "3.10.7"
  },
  "orig_nbformat": 4,
  "vscode": {
   "interpreter": {
    "hash": "d50220305086dde7714464d39eb812e6992001230edb4d06ec4afb2ffb1c28c6"
   }
  }
 },
 "nbformat": 4,
 "nbformat_minor": 2
}
